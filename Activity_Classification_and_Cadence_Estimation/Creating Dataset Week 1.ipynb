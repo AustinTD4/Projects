{
 "cells": [
  {
   "cell_type": "code",
   "execution_count": 1,
   "metadata": {},
   "outputs": [],
   "source": [
    "import os\n",
    "import pandas as pd\n",
    "import csv\n",
    "from pathlib import Path\n",
    "import util\n",
    "import copy\n",
    "from Python3Code.Chapter3.KalmanFilters import KalmanFilters\n",
    "from VisualizeDataset import VisualizeDataset\n",
    "from Python3Code.Chapter2.CreateDataset import CreateDataset\n",
    "import matplotlib.pyplot as plt"
   ]
  },
  {
   "cell_type": "code",
   "execution_count": null,
   "metadata": {},
   "outputs": [],
   "source": [
    "columns = ['Acceleration x (m/s^2)', 'Acceleration y (m/s^2)', 'Acceleration z (m/s^2)', 'Gyroscope x (rad/s)', 'Gyroscope y (rad/s)', \n",
    "           'Gyroscope z (rad/s)', 'Linear Acceleration x (m/s^2)', 'Linear Acceleration y (m/s^2)', 'Linear Acceleration z (m/s^2)']\n",
    "kalman = KalmanFilters()\n",
    "filePath = Path('./Group_71_Data/')\n",
    "files = os.listdir(filePath)\n",
    "for file in files:\n",
    "    print(\"A\")\n",
    "    frame = pd.read_csv('./group_71_Data/'+file)    \n",
    "    for col in columns:\n",
    "        frame = kalman.apply_kalman_filter(frame, col)\n",
    "    frame.to_csv('./Group_71_Data_Kalman/'+str(file))"
   ]
  },
  {
   "cell_type": "code",
   "execution_count": null,
   "metadata": {},
   "outputs": [],
   "source": [
    "columns = ['Acceleration x (m/s^2)', 'Acceleration y (m/s^2)', 'Acceleration z (m/s^2)', 'Gyroscope x (rad/s)', 'Gyroscope y (rad/s)', \n",
    "           'Gyroscope z (rad/s)', 'Linear Acceleration x (m/s^2)', 'Linear Acceleration y (m/s^2)', 'Linear Acceleration z (m/s^2)']\n",
    "kalman = KalmanFilters()\n",
    "filePath = Path('./Group_71_Data/Georgios Data/')\n",
    "files = os.listdir(filePath)\n",
    "for file in files:\n",
    "    print(\"A\")\n",
    "    frame = pd.read_csv('./Group_71_Data/Georgios Data/'+file)    \n",
    "    for col in columns:\n",
    "        frame = kalman.apply_kalman_filter(frame, col)\n",
    "    frame.to_csv('./Group_71_Data_Kalman/'+str(file))"
   ]
  },
  {
   "cell_type": "code",
   "execution_count": 4,
   "metadata": {},
   "outputs": [],
   "source": [
    "#Old code\n",
    "####\n",
    "granularities = [5,.5,.05]\n",
    "DataViz = VisualizeDataset('test_box.py')\n",
    "def make_data_process(columns, fileName, title, granularities):\n",
    "    for granularity in granularities:\n",
    "        kalumns = []\n",
    "        kalman = KalmanFilters()\n",
    "        filePath = Path('./Group_71_Data/')\n",
    "        dataset = CreateDataset(filePath, granularity)\n",
    "        dataset.add_numerical_dataset(fileName, 'timestamps', columns, 'avg', title)\n",
    "        dataFrame = dataset.data_table\n",
    "        for col in columns:\n",
    "            kalumns.append(str(col)+'_kalman')\n",
    "            kalman.apply_kalman_filter(dataFrame, col)\n",
    "        util.print_statistics(dataFrame)\n",
    "        DataViz.plot_dataset_boxplot(dataFrame, kalumns)\n",
    "        for kal in kalumns:\n",
    "            plt.scatter(dataFrame.index,dataFrame[kal])\n",
    "            plt.ylabel(\"Acceleration\")\n",
    "            plt.title(kal)\n",
    "            DataViz.save(plt)\n",
    "            plt.clf()\n",
    "    \n",
    "#make_data_process(['Linear Acceleration x (m/s^2)','Linear Acceleration y (m/s^2)','Linear Acceleration z (m/s^2)'], 'test', 'Georgios Walking.csv', '', granularities)\n",
    "#make_data_process(['x','y','z'], 'Austin Jogging.csv', '', granularities)\n"
   ]
  },
  {
   "cell_type": "code",
   "execution_count": null,
   "metadata": {},
   "outputs": [],
   "source": [
    "\n",
    "#This code takes the excel files in a directory and runs the kalman filter on each file. The outputs are organized into sets of each sample at a certain granularity.\n",
    "granularities = [50, 100, 150]\n",
    "columns = ['Acceleration x (m/s^2)', 'Acceleration y (m/s^2)', 'Acceleration z (m/s^2)', 'Gyroscope x (rad/s)', 'Gyroscope y (rad/s)', \n",
    "           'Gyroscope z (rad/s)', 'Linear Acceleration x (m/s^2)', 'Linear Acceleration y (m/s^2)', 'Linear Acceleration z (m/s^2)']\n",
    "datasets = []\n",
    "def make_data_process(columns, title, granularities):\n",
    "    kalman = KalmanFilters()\n",
    "    filePath = Path('./Group_71_Data/')\n",
    "    for granularity in granularities:\n",
    "        samplesets = []\n",
    "        for fileName in os.listdir(filePath):\n",
    "            dataset = CreateDataset(filePath, granularity)\n",
    "            dataset.add_numerical_dataset(fileName, 'Timestamps', columns, 'avg', title)\n",
    "            dataFrame = dataset.data_table\n",
    "            #for col in columns:\n",
    "            #    kalman.apply_kalman_filter(dataFrame, col)\n",
    "            #print sample metrics\n",
    "            util.print_statistics(dataFrame)\n",
    "            samplesets.append(copy.deepcopy(dataFrame))\n",
    "        datasets.append(samplesets)\n",
    "    \n",
    "make_data_process(columns, '', granularities)\n"
   ]
  },
  {
   "cell_type": "code",
   "execution_count": 20,
   "metadata": {},
   "outputs": [],
   "source": [
    "#Saves the datasets into a new folder\n",
    "fileNames = os.listdir(Path('./Group_71_Data/'))\n",
    "for i in range(len(datasets)):\n",
    "    for j in range(len(datasets[i])):\n",
    "        datasets[i][j].to_csv('./Group_71_Data_Kalman/'+str(fileNames[j][:-4])+\" Kalman G\"+str(granularities[i])+\".csv\")"
   ]
  }
 ],
 "metadata": {
  "kernelspec": {
   "display_name": "ML4QSenv",
   "language": "python",
   "name": "python3"
  },
  "language_info": {
   "codemirror_mode": {
    "name": "ipython",
    "version": 3
   },
   "file_extension": ".py",
   "mimetype": "text/x-python",
   "name": "python",
   "nbconvert_exporter": "python",
   "pygments_lexer": "ipython3",
   "version": "3.8.8"
  },
  "orig_nbformat": 4
 },
 "nbformat": 4,
 "nbformat_minor": 2
}
