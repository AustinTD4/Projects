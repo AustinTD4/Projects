{
 "cells": [
  {
   "cell_type": "code",
   "execution_count": 1,
   "metadata": {},
   "outputs": [
    {
     "name": "stdout",
     "output_type": "stream",
     "text": [
      "Welcome to the Tutorial Blackjack Simulator\n",
      "Draw Type: 1\n",
      "Num2 after gen: [9, 4]\n",
      " * Serving Flask app '__main__'\n",
      " * Debug mode: off\n"
     ]
    },
    {
     "name": "stderr",
     "output_type": "stream",
     "text": [
      "WARNING: This is a development server. Do not use it in a production deployment. Use a production WSGI server instead.\n",
      " * Running on http://127.0.0.1:1438\n",
      "Press CTRL+C to quit\n",
      "127.0.0.1 - - [10/Aug/2023 06:52:55] \"GET / HTTP/1.1\" 200 -\n",
      "127.0.0.1 - - [10/Aug/2023 06:52:56] \"GET /get_image_path_row1 HTTP/1.1\" 200 -\n",
      "127.0.0.1 - - [10/Aug/2023 06:52:56] \"GET /get_image_path_row2 HTTP/1.1\" 200 -\n",
      "127.0.0.1 - - [10/Aug/2023 06:52:56] \"GET /favicon.ico HTTP/1.1\" 404 -\n",
      "127.0.0.1 - - [10/Aug/2023 06:52:57] \"GET /static/images2/card_back.jpg HTTP/1.1\" 200 -\n",
      "127.0.0.1 - - [10/Aug/2023 06:52:57] \"GET /static/images/101_jack_of_diamonds2.png HTTP/1.1\" 200 -\n",
      "127.0.0.1 - - [10/Aug/2023 06:52:57] \"GET /static/images/6_of_hearts.png HTTP/1.1\" 200 -\n",
      "127.0.0.1 - - [10/Aug/2023 06:52:57] \"GET /static/images/103_king_of_hearts2.png HTTP/1.1\" 200 -\n",
      "127.0.0.1 - - [10/Aug/2023 06:53:08] \"POST /get_message HTTP/1.1\" 200 -\n"
     ]
    },
    {
     "name": "stdout",
     "output_type": "stream",
     "text": [
      "Player Total: 16,  Player Card Indexes: 9,  4,  Dealer Index: 11\n",
      "Computer Says: 2,  Player Says: 2\n"
     ]
    },
    {
     "name": "stderr",
     "output_type": "stream",
     "text": [
      "127.0.0.1 - - [10/Aug/2023 06:53:13] \"POST /button_click HTTP/1.1\" 200 -\n",
      "127.0.0.1 - - [10/Aug/2023 06:53:13] \"GET /static/images/7_of_clubs.png HTTP/1.1\" 200 -\n",
      "127.0.0.1 - - [10/Aug/2023 06:53:15] \"POST /reset HTTP/1.1\" 200 -\n"
     ]
    },
    {
     "name": "stdout",
     "output_type": "stream",
     "text": [
      "Draw Type: 1\n",
      "Num2 after gen: [1, 7]\n"
     ]
    },
    {
     "name": "stderr",
     "output_type": "stream",
     "text": [
      "127.0.0.1 - - [10/Aug/2023 06:53:16] \"GET /get_image_path_row1 HTTP/1.1\" 200 -\n",
      "127.0.0.1 - - [10/Aug/2023 06:53:16] \"GET /get_image_path_row2 HTTP/1.1\" 200 -\n",
      "127.0.0.1 - - [10/Aug/2023 06:53:16] \"GET /static/images/2_of_diamonds.png HTTP/1.1\" 200 -\n",
      "127.0.0.1 - - [10/Aug/2023 06:53:16] \"GET /static/images/3_of_hearts.png HTTP/1.1\" 200 -\n",
      "127.0.0.1 - - [10/Aug/2023 06:53:16] \"GET /static/images/9_of_spades.png HTTP/1.1\" 200 -\n"
     ]
    },
    {
     "name": "stdout",
     "output_type": "stream",
     "text": [
      "Player Total: 12,  Player Card Indexes: 1,  7,  Dealer Index: 0\n",
      "Computer Says: 2,  Player Says: 1\n"
     ]
    },
    {
     "name": "stderr",
     "output_type": "stream",
     "text": [
      "127.0.0.1 - - [10/Aug/2023 06:53:29] \"POST /get_message HTTP/1.1\" 200 -\n",
      "127.0.0.1 - - [10/Aug/2023 06:53:32] \"POST /button_click HTTP/1.1\" 200 -\n",
      "127.0.0.1 - - [10/Aug/2023 06:53:32] \"GET /static/images/7_of_hearts.png HTTP/1.1\" 200 -\n",
      "127.0.0.1 - - [10/Aug/2023 06:53:36] \"POST /button_click HTTP/1.1\" 200 -\n",
      "127.0.0.1 - - [10/Aug/2023 06:53:36] \"GET /static/images/10_of_diamonds.png HTTP/1.1\" 200 -\n",
      "127.0.0.1 - - [10/Aug/2023 06:53:38] \"POST /reset HTTP/1.1\" 200 -\n"
     ]
    },
    {
     "name": "stdout",
     "output_type": "stream",
     "text": [
      "Draw Type: 1\n",
      "Num2 after gen: [5, 12]\n"
     ]
    },
    {
     "name": "stderr",
     "output_type": "stream",
     "text": [
      "127.0.0.1 - - [10/Aug/2023 06:53:39] \"GET /get_image_path_row1 HTTP/1.1\" 200 -\n",
      "127.0.0.1 - - [10/Aug/2023 06:53:39] \"GET /get_image_path_row2 HTTP/1.1\" 200 -\n",
      "127.0.0.1 - - [10/Aug/2023 06:53:39] \"GET /static/images/9_of_diamonds.png HTTP/1.1\" 200 -\n",
      "127.0.0.1 - - [10/Aug/2023 06:53:39] \"GET /static/images/7_of_spades.png HTTP/1.1\" 200 -\n",
      "127.0.0.1 - - [10/Aug/2023 06:53:39] \"GET /static/images/ace_of_hearts.png HTTP/1.1\" 200 -\n"
     ]
    },
    {
     "name": "stdout",
     "output_type": "stream",
     "text": [
      "Player Total: 18,  Player Card Indexes: 5,  12,  Dealer Index: 7\n",
      "Computer Says: 2,  Player Says: 1\n"
     ]
    },
    {
     "name": "stderr",
     "output_type": "stream",
     "text": [
      "127.0.0.1 - - [10/Aug/2023 06:54:10] \"POST /get_message HTTP/1.1\" 200 -\n",
      "127.0.0.1 - - [10/Aug/2023 06:54:13] \"POST /button_click HTTP/1.1\" 200 -\n",
      "127.0.0.1 - - [10/Aug/2023 06:54:13] \"GET /static/images/3_of_diamonds.png HTTP/1.1\" 200 -\n",
      "127.0.0.1 - - [10/Aug/2023 06:54:14] \"POST /button_click HTTP/1.1\" 200 -\n",
      "127.0.0.1 - - [10/Aug/2023 06:54:14] \"GET /static/images/2_of_spades.png HTTP/1.1\" 200 -\n",
      "127.0.0.1 - - [10/Aug/2023 06:54:17] \"POST /button_click HTTP/1.1\" 200 -\n",
      "127.0.0.1 - - [10/Aug/2023 06:54:17] \"GET /static/images/5_of_spades.png HTTP/1.1\" 200 -\n",
      "127.0.0.1 - - [10/Aug/2023 06:54:19] \"POST /reset HTTP/1.1\" 200 -\n"
     ]
    },
    {
     "name": "stdout",
     "output_type": "stream",
     "text": [
      "Draw Type: 1\n",
      "Num2 after gen: [1, 10]\n"
     ]
    },
    {
     "name": "stderr",
     "output_type": "stream",
     "text": [
      "127.0.0.1 - - [10/Aug/2023 06:54:20] \"GET /get_image_path_row1 HTTP/1.1\" 200 -\n",
      "127.0.0.1 - - [10/Aug/2023 06:54:20] \"GET /get_image_path_row2 HTTP/1.1\" 200 -\n",
      "127.0.0.1 - - [10/Aug/2023 06:54:20] \"GET /static/images/102_queen_of_clubs2.png HTTP/1.1\" 200 -\n",
      "127.0.0.1 - - [10/Aug/2023 06:54:20] \"GET /static/images/102_queen_of_hearts2.png HTTP/1.1\" 200 -\n",
      "127.0.0.1 - - [10/Aug/2023 06:54:34] \"POST /get_message HTTP/1.1\" 200 -\n"
     ]
    },
    {
     "name": "stdout",
     "output_type": "stream",
     "text": [
      "Player Total: 13,  Player Card Indexes: 1,  10,  Dealer Index: 10\n",
      "Computer Says: 2,  Player Says: 2\n"
     ]
    },
    {
     "name": "stderr",
     "output_type": "stream",
     "text": [
      "127.0.0.1 - - [10/Aug/2023 06:54:38] \"POST /button_click HTTP/1.1\" 200 -\n",
      "127.0.0.1 - - [10/Aug/2023 06:54:40] \"POST /reset HTTP/1.1\" 200 -\n"
     ]
    },
    {
     "name": "stdout",
     "output_type": "stream",
     "text": [
      "Draw Type: 1\n",
      "Num2 after gen: [11, 10]\n"
     ]
    },
    {
     "name": "stderr",
     "output_type": "stream",
     "text": [
      "127.0.0.1 - - [10/Aug/2023 06:54:41] \"GET /get_image_path_row1 HTTP/1.1\" 200 -\n",
      "127.0.0.1 - - [10/Aug/2023 06:54:41] \"GET /get_image_path_row2 HTTP/1.1\" 200 -\n",
      "127.0.0.1 - - [10/Aug/2023 06:54:41] \"GET /static/images/7_of_clubs.png HTTP/1.1\" 304 -\n",
      "127.0.0.1 - - [10/Aug/2023 06:54:41] \"GET /static/images/103_king_of_hearts2.png HTTP/1.1\" 304 -\n",
      "127.0.0.1 - - [10/Aug/2023 06:54:43] \"POST /get_message HTTP/1.1\" 200 -\n"
     ]
    },
    {
     "name": "stdout",
     "output_type": "stream",
     "text": [
      "Player Total: 20,  Player Card Indexes: 11,  10,  Dealer Index: 5\n",
      "Computer Says: 1,  Player Says: 1\n"
     ]
    },
    {
     "name": "stderr",
     "output_type": "stream",
     "text": [
      "127.0.0.1 - - [10/Aug/2023 06:54:46] \"POST /button_click HTTP/1.1\" 200 -\n",
      "127.0.0.1 - - [10/Aug/2023 06:54:46] \"GET /static/images/3_of_spades.png HTTP/1.1\" 200 -\n",
      "127.0.0.1 - - [10/Aug/2023 06:54:47] \"POST /button_click HTTP/1.1\" 200 -\n",
      "127.0.0.1 - - [10/Aug/2023 06:54:47] \"GET /static/images/2_of_hearts.png HTTP/1.1\" 200 -\n",
      "127.0.0.1 - - [10/Aug/2023 06:54:48] \"POST /button_click HTTP/1.1\" 200 -\n",
      "127.0.0.1 - - [10/Aug/2023 06:54:48] \"GET /static/images/4_of_hearts.png HTTP/1.1\" 200 -\n",
      "127.0.0.1 - - [10/Aug/2023 06:54:52] \"POST /button_click HTTP/1.1\" 200 -\n",
      "127.0.0.1 - - [10/Aug/2023 06:54:54] \"POST /reset HTTP/1.1\" 200 -\n"
     ]
    },
    {
     "name": "stdout",
     "output_type": "stream",
     "text": [
      "Draw Type: 1\n",
      "Num2 after gen: [1, 8]\n"
     ]
    },
    {
     "name": "stderr",
     "output_type": "stream",
     "text": [
      "127.0.0.1 - - [10/Aug/2023 06:54:55] \"GET /get_image_path_row1 HTTP/1.1\" 200 -\n",
      "127.0.0.1 - - [10/Aug/2023 06:54:55] \"GET /get_image_path_row2 HTTP/1.1\" 200 -\n",
      "127.0.0.1 - - [10/Aug/2023 06:55:23] \"POST /button_click HTTP/1.1\" 200 -\n",
      "127.0.0.1 - - [10/Aug/2023 06:55:39] \"POST /get_message HTTP/1.1\" 200 -\n"
     ]
    },
    {
     "name": "stdout",
     "output_type": "stream",
     "text": [
      "Player Total: 13,  Player Card Indexes: 1,  8,  Dealer Index: 10\n",
      "Computer Says: 2,  Player Says: 2\n"
     ]
    },
    {
     "name": "stderr",
     "output_type": "stream",
     "text": [
      "127.0.0.1 - - [10/Aug/2023 06:55:41] \"POST /button_click HTTP/1.1\" 200 -\n",
      "127.0.0.1 - - [10/Aug/2023 06:55:41] \"GET /static/images/ace_of_clubs.png HTTP/1.1\" 200 -\n"
     ]
    },
    {
     "name": "stdout",
     "output_type": "stream",
     "text": [
      "num2copy [1, 8, 12]\n"
     ]
    },
    {
     "name": "stderr",
     "output_type": "stream",
     "text": [
      "127.0.0.1 - - [10/Aug/2023 06:55:50] \"POST /button_click HTTP/1.1\" 200 -\n",
      "127.0.0.1 - - [10/Aug/2023 06:56:06] \"POST /button_click HTTP/1.1\" 200 -\n",
      "127.0.0.1 - - [10/Aug/2023 06:56:06] \"GET /static/images/8_of_hearts.png HTTP/1.1\" 200 -\n",
      "127.0.0.1 - - [10/Aug/2023 06:56:08] \"POST /reset HTTP/1.1\" 200 -\n"
     ]
    },
    {
     "name": "stdout",
     "output_type": "stream",
     "text": [
      "Draw Type: 2\n",
      "Num2 after gen: [12, 5]\n"
     ]
    },
    {
     "name": "stderr",
     "output_type": "stream",
     "text": [
      "127.0.0.1 - - [10/Aug/2023 06:56:09] \"GET /get_image_path_row1 HTTP/1.1\" 200 -\n",
      "127.0.0.1 - - [10/Aug/2023 06:56:09] \"GET /get_image_path_row2 HTTP/1.1\" 200 -\n",
      "127.0.0.1 - - [10/Aug/2023 06:56:09] \"GET /static/images/10_of_hearts.png HTTP/1.1\" 200 -\n",
      "127.0.0.1 - - [10/Aug/2023 06:56:17] \"POST /button_click HTTP/1.1\" 200 -\n",
      "127.0.0.1 - - [10/Aug/2023 06:56:20] \"POST /get_message HTTP/1.1\" 200 -\n"
     ]
    },
    {
     "name": "stdout",
     "output_type": "stream",
     "text": [
      "Player Total: 18,  Player Card Indexes: 12,  5,  Dealer Index: 8\n",
      "Computer Says: 2,  Player Says: 2\n"
     ]
    },
    {
     "name": "stderr",
     "output_type": "stream",
     "text": [
      "127.0.0.1 - - [10/Aug/2023 06:56:22] \"POST /button_click HTTP/1.1\" 200 -\n",
      "127.0.0.1 - - [10/Aug/2023 06:56:22] \"GET /static/images/102_queen_of_spades2.png HTTP/1.1\" 200 -\n"
     ]
    },
    {
     "name": "stdout",
     "output_type": "stream",
     "text": [
      "num2copy [12, 5, 10]\n"
     ]
    },
    {
     "name": "stderr",
     "output_type": "stream",
     "text": [
      "127.0.0.1 - - [10/Aug/2023 06:56:30] \"POST /button_click HTTP/1.1\" 200 -\n",
      "127.0.0.1 - - [10/Aug/2023 06:56:30] \"GET /static/images/5_of_clubs.png HTTP/1.1\" 200 -\n",
      "127.0.0.1 - - [10/Aug/2023 06:56:34] \"POST /button_click HTTP/1.1\" 200 -\n",
      "127.0.0.1 - - [10/Aug/2023 06:56:34] \"GET /static/images/10_of_spades.png HTTP/1.1\" 200 -\n",
      "127.0.0.1 - - [10/Aug/2023 06:56:36] \"POST /reset HTTP/1.1\" 200 -\n"
     ]
    },
    {
     "name": "stdout",
     "output_type": "stream",
     "text": [
      "Draw Type: 3\n",
      "Num2 after gen: [6, 6]\n"
     ]
    },
    {
     "name": "stderr",
     "output_type": "stream",
     "text": [
      "127.0.0.1 - - [10/Aug/2023 06:56:37] \"GET /get_image_path_row1 HTTP/1.1\" 200 -\n",
      "127.0.0.1 - - [10/Aug/2023 06:56:37] \"GET /get_image_path_row2 HTTP/1.1\" 200 -\n",
      "127.0.0.1 - - [10/Aug/2023 06:56:37] \"GET /static/images/ace_of_diamonds.png HTTP/1.1\" 200 -\n",
      "127.0.0.1 - - [10/Aug/2023 06:56:40] \"POST /get_message HTTP/1.1\" 200 -\n"
     ]
    },
    {
     "name": "stdout",
     "output_type": "stream",
     "text": [
      "Player Total: 16,  Player Card Indexes: 6,  6,  Dealer Index: 12\n",
      "Computer Says: 4,  Player Says: 4\n"
     ]
    },
    {
     "name": "stderr",
     "output_type": "stream",
     "text": [
      "127.0.0.1 - - [10/Aug/2023 06:56:42] \"POST /button_click HTTP/1.1\" 200 -\n",
      "127.0.0.1 - - [10/Aug/2023 06:56:42] \"GET /static/images/3_of_clubs.png HTTP/1.1\" 200 -\n",
      "127.0.0.1 - - [10/Aug/2023 06:56:48] \"POST /get_message HTTP/1.1\" 200 -\n"
     ]
    },
    {
     "name": "stdout",
     "output_type": "stream",
     "text": [
      "Player Total: 11,  Player Card Indexes: 6,  1,  Dealer Index: 12\n",
      "Computer Says: 2,  Player Says: 2\n"
     ]
    },
    {
     "name": "stderr",
     "output_type": "stream",
     "text": [
      "127.0.0.1 - - [10/Aug/2023 06:56:50] \"POST /button_click HTTP/1.1\" 200 -\n",
      "127.0.0.1 - - [10/Aug/2023 06:56:50] \"GET /static/images/4_of_clubs.png HTTP/1.1\" 200 -\n"
     ]
    },
    {
     "name": "stdout",
     "output_type": "stream",
     "text": [
      "Player Total: 15,  Player Card Indexes: 6,  1,  Dealer Index: 12\n",
      "Computer Says: 2,  Player Says: 1\n"
     ]
    },
    {
     "name": "stderr",
     "output_type": "stream",
     "text": [
      "127.0.0.1 - - [10/Aug/2023 06:57:08] \"POST /get_message HTTP/1.1\" 200 -\n",
      "127.0.0.1 - - [10/Aug/2023 06:57:13] \"POST /button_click HTTP/1.1\" 200 -\n",
      "127.0.0.1 - - [10/Aug/2023 06:57:13] \"GET /get_image_path_row2 HTTP/1.1\" 200 -\n",
      "127.0.0.1 - - [10/Aug/2023 06:57:18] \"POST /get_message HTTP/1.1\" 200 -\n"
     ]
    },
    {
     "name": "stdout",
     "output_type": "stream",
     "text": [
      "Player Total: 10,  Player Card Indexes: 6,  0,  Dealer Index: 12\n",
      "Computer Says: 2,  Player Says: 2\n"
     ]
    },
    {
     "name": "stderr",
     "output_type": "stream",
     "text": [
      "127.0.0.1 - - [10/Aug/2023 06:57:20] \"POST /button_click HTTP/1.1\" 200 -\n",
      "127.0.0.1 - - [10/Aug/2023 06:57:26] \"POST /button_click HTTP/1.1\" 200 -\n",
      "127.0.0.1 - - [10/Aug/2023 06:57:26] \"GET /static/images/6_of_clubs.png HTTP/1.1\" 200 -\n"
     ]
    },
    {
     "name": "stdout",
     "output_type": "stream",
     "text": [
      "Hands: [15, 20]\n",
      "Dealer total: 17\n"
     ]
    },
    {
     "name": "stderr",
     "output_type": "stream",
     "text": [
      "127.0.0.1 - - [10/Aug/2023 06:57:31] \"GET /call_split HTTP/1.1\" 200 -\n",
      "127.0.0.1 - - [10/Aug/2023 06:57:33] \"POST /reset HTTP/1.1\" 200 -\n"
     ]
    },
    {
     "name": "stdout",
     "output_type": "stream",
     "text": [
      "Draw Type: 3\n",
      "Num2 after gen: [7, 7]\n"
     ]
    },
    {
     "name": "stderr",
     "output_type": "stream",
     "text": [
      "127.0.0.1 - - [10/Aug/2023 06:57:34] \"GET /get_image_path_row1 HTTP/1.1\" 200 -\n",
      "127.0.0.1 - - [10/Aug/2023 06:57:34] \"GET /get_image_path_row2 HTTP/1.1\" 200 -\n",
      "127.0.0.1 - - [10/Aug/2023 06:57:56] \"POST /button_click HTTP/1.1\" 200 -\n"
     ]
    },
    {
     "ename": "",
     "evalue": "",
     "output_type": "error",
     "traceback": [
      "\u001b[1;31mCannot execute code, session has been disposed. Please try restarting the Kernel."
     ]
    },
    {
     "ename": "",
     "evalue": "",
     "output_type": "error",
     "traceback": [
      "\u001b[1;31mThe Kernel crashed while executing code in the the current cell or a previous cell. Please review the code in the cell(s) to identify a possible cause of the failure. Click <a href='https://aka.ms/vscodeJupyterKernelCrash'>here</a> for more info. View Jupyter <a href='command:jupyter.viewOutput'>log</a> for further details."
     ]
    }
   ],
   "source": [
    "from flask import Flask, jsonify, request, render_template, make_response\n",
    "import os\n",
    "from gtts import gTTS\n",
    "from playsound import playsound\n",
    "from BlackJack_Plain import blackjack_color\n",
    "import random\n",
    "import time\n",
    "\n",
    "#Initializes the blackjack object, which contains the majority of variables and methods needed to play\n",
    "bj = blackjack_color()\n",
    "\n",
    "#Initializes lists\n",
    "cards2, face1, face2, num1, num1copy, num2, num2copy, values, hands = [], [], [], [], [], [], [], [], []\n",
    "\n",
    "#Contains paths to all card images\n",
    "master_path_reg = [\"static/images/2_of_clubs.png\", \"static/images/2_of_diamonds.png\", \"static/images/2_of_hearts.png\", \"static/images/2_of_spades.png\", \n",
    "    \"static/images/3_of_clubs.png\", \"static/images/3_of_diamonds.png\", \"static/images/3_of_hearts.png\", \"static/images/3_of_spades.png\", \n",
    "    \"static/images/4_of_clubs.png\", \"static/images/4_of_diamonds.png\", \"static/images/4_of_hearts.png\", \"static/images/4_of_spades.png\", \n",
    "    \"static/images/5_of_clubs.png\", \"static/images/5_of_diamonds.png\", \"static/images/5_of_hearts.png\", \"static/images/5_of_spades.png\", \n",
    "    \"static/images/6_of_clubs.png\", \"static/images/6_of_diamonds.png\", \"static/images/6_of_hearts.png\", \"static/images/6_of_spades.png\", \n",
    "    \"static/images/7_of_clubs.png\", \"static/images/7_of_diamonds.png\", \"static/images/7_of_hearts.png\", \"static/images/7_of_spades.png\", \n",
    "    \"static/images/8_of_clubs.png\", \"static/images/8_of_diamonds.png\", \"static/images/8_of_hearts.png\", \"static/images/8_of_spades.png\", \n",
    "    \"static/images/9_of_clubs.png\", \"static/images/9_of_diamonds.png\", \"static/images/9_of_hearts.png\", \"static/images/9_of_spades.png\", \n",
    "    \"static/images/10_of_clubs.png\", \"static/images/10_of_diamonds.png\", \"static/images/10_of_hearts.png\", \"static/images/10_of_spades.png\", \n",
    "    \"static/images/101_jack_of_clubs2.png\", \"static/images/101_jack_of_diamonds2.png\", \"static/images/101_jack_of_hearts2.png\", \"static/images/101_jack_of_spades2.png\", \n",
    "    \"static/images/102_queen_of_clubs2.png\", \"static/images/102_queen_of_diamonds2.png\", \"static/images/102_queen_of_hearts2.png\", \"static/images/102_queen_of_spades2.png\", \n",
    "    \"static/images/103_king_of_clubs2.png\", \"static/images/103_king_of_diamonds2.png\", \"static/images/103_king_of_hearts2.png\", \"static/images/103_king_of_spades2.png\", \n",
    "    \"static/images/ace_of_clubs.png\", \"static/images/ace_of_diamonds.png\", \"static/images/ace_of_hearts.png\", \"static/images/ace_of_spades.png\"]\n",
    "\n",
    "ace_paths = [\"static/images/ace_of_clubs.png\", \"static/images/ace_of_diamonds.png\", \"static/images/ace_of_hearts.png\", \"static/images/ace_of_spades.png\"]\n",
    "\n",
    "#Initializes Flask\n",
    "app = Flask(__name__)\n",
    "\n",
    "#Reads strings aloud\n",
    "def read_string(input_string):\n",
    "    mytext = input_string\n",
    "    myobj = gTTS(text=mytext, slow=False)\n",
    "    if os.path.exists(\"speech.mp3\"):\n",
    "        os.remove(\"speech.mp3\")\n",
    "    myobj.save(\"speech.mp3\")\n",
    "    playsound(\"speech.mp3\")\n",
    "    os.remove(\"speech.mp3\")\n",
    "\n",
    "#Reads next move aloud\n",
    "def do_action(button_id):\n",
    "    responses = ['Stay','Hit','Double Down','Pair Splitting', 'Exiting...', 'Standard Cards', 'Soft Hands Only', 'Pairs Only']\n",
    "    read_string(responses[button_id-1])\n",
    "\n",
    "#Opens initial HTML page\n",
    "@app.route('/')\n",
    "def index():\n",
    "    return render_template('BlackJack1.html')\n",
    "\n",
    "#Handles button clicks on the HTML page, carries out necessary actions\n",
    "@app.route('/button_click', methods=['POST'])\n",
    "def button_click():\n",
    "    #Colects information about the game state\n",
    "    button_id = int(request.json['button_id'])\n",
    "    clicks = int(request.json['buttonClickCount'])\n",
    "    handNum = int(request.json['hands'])\n",
    "    split = request.json['split']\n",
    "    isRecursive = request.json['isRecursiveCall']\n",
    "    global cards2, num2, num2copy, values\n",
    "    if button_id == 1: \n",
    "        time.sleep(1)\n",
    "    if isRecursive == False: \n",
    "        do_action(button_id)\n",
    "        bj.double_ids.append(0)\n",
    "\n",
    "    #Generates the next card\n",
    "    value, card, image, ind = cardgen()\n",
    "    \n",
    "    #Handles the choice to stand\n",
    "    if button_id == 1: \n",
    "\n",
    "        #In the case of a split, this stores important information about the latest hand and prepares to send the next hand to the HTML page\n",
    "        if split == True and handNum != 1:\n",
    "            read_string(\"Next Hand\")\n",
    "            bj.hands.append(bj.player_total)\n",
    "            bj.player_total = int(values[0] + value)\n",
    "            copy1 = cards2[0]\n",
    "            copy2 = num2[0]\n",
    "            cards2, num2 = [], []\n",
    "            cards2.append(copy1)\n",
    "            num2.append(copy2)\n",
    "            cards2.append(image)\n",
    "            num2.append(ind)\n",
    "            num2copy = num2\n",
    "            sending = {'imagePaths' : cards2, 'hand_total' : bj.player_total}\n",
    "\n",
    "        else:\n",
    "            #Handles the dealer's hand once a player who has split stands on their last hand\n",
    "            if split == True and isRecursive == False:\n",
    "                bj.hands.append(bj.player_total)\n",
    "            if cards1[0] == \"static/images2/card_back.jpg\": \n",
    "                cards1[0] = image\n",
    "            else: \n",
    "                cards1.append(image)\n",
    "            face1.append(card)\n",
    "            num1.append(ind)\n",
    "            bj.dealer_total += value\n",
    "\n",
    "            #Checks for a dealer 'Blackjack'\n",
    "            if bj.dealer_total == 21 and len(cards1) == 2: \n",
    "                read_string(\"BlackJack! Dealer Wins\")\n",
    "                bj.dealer_total = 0\n",
    "\n",
    "            #Checks to see who won the hand\n",
    "            if bj.dealer_total > 16 and bj.dealer_total < 22 and split == False:\n",
    "                if bj.dealer_total > bj.player_total: \n",
    "                    read_string(\"Dealer Wins\")\n",
    "                    bj.dealer_total = 0\n",
    "                elif bj.dealer_total == bj.player_total: \n",
    "                    read_string(\"Push, Nobody Wins\")\n",
    "                    bj.dealer_total = 0\n",
    "                    if bj.double_bet == True:\n",
    "                        bj.net += 2\n",
    "                    else:\n",
    "                        bj.net += 1\n",
    "                elif bj.dealer_total < bj.player_total: \n",
    "                    bj.hand_wins += 1\n",
    "                    if bj.double_bet == True:\n",
    "                        bj.net += 4\n",
    "                    else:\n",
    "                        bj.net += 2\n",
    "                    read_string(\"Player Wins!\")\n",
    "                    bj.dealer_total = 0\n",
    "\n",
    "            #Checks if the dealer has aces and needs their hand total modified\n",
    "            elif bj.dealer_total > 21 and 12 in num1:\n",
    "                bj.dealer_total -= 10\n",
    "                num1.pop(num1.index(12))\n",
    "            #Checks for the dealer busting\n",
    "            if bj.dealer_total > 21: \n",
    "                read_string(\"Dealer Busts\")\n",
    "                bj.hand_wins += 1\n",
    "                if bj.double_bet == True:\n",
    "                    bj.net += 4\n",
    "                else:\n",
    "                    bj.net += 2\n",
    "                bj.dealer_total = 0\n",
    "            sending = {'imagePaths' : cards1, 'hand_total' : bj.dealer_total, 'net' : bj.net}\n",
    "\n",
    "        #Returns the image paths and relevant tallies to the HTML page\n",
    "        return jsonify(sending)\n",
    "    \n",
    "    #Adds a card to the current hand, due to selecting 'hit' \n",
    "    elif button_id == 2:\n",
    "        cards2.append(image)\n",
    "        face2.append(card)\n",
    "        num2.append(ind)\n",
    "        bj.player_total += value\n",
    "        #Checks if the hand contains an ace and needs its total modified\n",
    "        if bj.player_total > 21 and 12 in num2copy:\n",
    "            print(\"num2copy \"+str(num2copy))\n",
    "            bj.player_total -= 10\n",
    "            num2copy.pop(num2copy.index(12))\n",
    "        #Checks for a bust\n",
    "        if bj.player_total > 21:\n",
    "            read_string(\"Player Busts\")\n",
    "            bj.player_total = 0\n",
    "        sending = {'imagePaths' : cards2, 'hand_total' : bj.player_total, 'net' : bj.net}\n",
    "\n",
    "        #Returns the image paths and relevant tallies to the HTML page\n",
    "        return jsonify(sending)\n",
    "    \n",
    "    #Handles the player doubling down\n",
    "    elif button_id == 3: \n",
    "        #Checks to see if the move is valid\n",
    "        if clicks == 1 or clicks == 0:\n",
    "            #Checks if there are multiple hands\n",
    "            if split == True:\n",
    "                bj.hands.append(bj.player_total)\n",
    "            #Handles extra betting from double down and tracks which hands doubled down\n",
    "            bj.double_ids.append(1)\n",
    "            bj.net -= 1\n",
    "            bj.double_bet = True\n",
    "\n",
    "            #Generates next card\n",
    "            cards2.append(image)\n",
    "            face2.append(card)\n",
    "            num2.append(ind)\n",
    "            num2copy.append(ind)\n",
    "            bj.player_total += value\n",
    "\n",
    "            #Checks if the hand contains an ace and needs its total modified\n",
    "            if bj.player_total > 21 and 12 in num2copy:\n",
    "                bj.player_total -= 10\n",
    "                num2copy.pop(num2copy.index(12))\n",
    "            #Checks for a bust\n",
    "            if bj.player_total > 21:\n",
    "                read_string(\"Player Busts\")\n",
    "                bj.player_total = 0\n",
    "            sending = {'imagePaths' : cards2, 'hand_total' : bj.player_total, 'net' : bj.net}\n",
    "            #Returns the image paths and relevant tallies to the HTML page\n",
    "            return jsonify(sending)\n",
    "        else:\n",
    "            #Handles case of the move being invalid\n",
    "            read_string(\"You Cannot Double Now\")\n",
    "            return make_response('', 200)\n",
    "    \n",
    "    #Handles the player splitting a pair\n",
    "    elif button_id == 4:\n",
    "        #Generates new card and returns relevent variables and image paths to the HTML page\n",
    "        if pair_id != None:\n",
    "            bj.net -= 1\n",
    "            bj.hand_count += 1\n",
    "            num2[1] = ind\n",
    "            cards2[1] = image\n",
    "            bj.player_total = int(values[0] + value)\n",
    "            sending = {'imagePaths' : cards2, 'hand_total' : bj.player_total, 'net' : bj.net}\n",
    "            return jsonify(sending)\n",
    "        else:\n",
    "            #Handles the case of the split choice being invalid\n",
    "            read_string(\"Not a Pair\")\n",
    "            return make_response('', 200)\n",
    "        \n",
    "    #Handles the player selecting 'Quit'\n",
    "    elif button_id == 5:\n",
    "        #Reads aloud a grading of the player's decision making, hand outcomes, and financial position\n",
    "        read_string(\"Your decision making was \"+str(bj.correct)+\" out of \"+str(bj.count)+\". Which is \"+str(int((bj.correct/bj.count)*100))+\" percent.\")\n",
    "        read_string(\"You won \"+str(int((bj.hand_wins/max(1,bj.hand_count-1))*100))+\" percent of your hands.\")\n",
    "        read_string(\"You started with 10 credits and now you have \"+str(bj.net)+\" credits.\")\n",
    "        time.sleep(1)\n",
    "        #Displays an ending image on the HTML page\n",
    "        sending = {'imagePaths': [cardback,cardback,cardback,cardback,cardback,cardback], 'hand_total' : bj.player_total}\n",
    "        return jsonify(sending)    \n",
    "    \n",
    "    #Changes the cards drawn to be from all cards\n",
    "    elif button_id == 6:\n",
    "        globals() ['draw_type'] = 1\n",
    "        return make_response('', 200)\n",
    "    #Changes the player hand to always contain one ace\n",
    "    elif button_id == 7:\n",
    "        globals() ['draw_type'] = 2\n",
    "        return make_response('', 200)\n",
    "    #Changes the player hand to always be a pair\n",
    "    elif button_id == 8:\n",
    "        globals() ['draw_type'] = 3\n",
    "        return make_response('', 200)\n",
    "\n",
    "#Returns a list of image paths to display on the first row of the HTML page\n",
    "@app.route('/get_image_path_row1', methods=['GET'])\n",
    "def get_image_path_row1():\n",
    "    return jsonify(cards1)\n",
    "\n",
    "#Returns a list of image paths to display on the second row of the HTML page\n",
    "@app.route('/get_image_path_row2', methods=['GET'])\n",
    "def get_image_path_row2():\n",
    "    return jsonify(cards2)\n",
    "\n",
    "#Resets the game state to a fresh hand after the last hand concludes\n",
    "@app.route('/reset', methods=['POST'])\n",
    "def reset():\n",
    "    read_string(\"Dealing...\")\n",
    "    initial(globals()['draw_type'])\n",
    "    return make_response('', 200)\n",
    "\n",
    "#Advises the player on the optimal decision if a different decision was made\n",
    "@app.route('/get_message', methods=['POST'])\n",
    "def send_message():\n",
    "    button_id = int(request.json['button_id'])\n",
    "\n",
    "    #Uses strategy tables to find optimal move\n",
    "    if num2[0] == 12 and num2[0] != num2[1]: \n",
    "        actual = bj.soft_key[num2[1]][num1[0]] \n",
    "    elif num2[1] == 12 and num2[0] != num2[1]: \n",
    "        actual = bj.soft_key[num2[0]][num1[0]]\n",
    "    elif num2[0] == num2[1] and bj.pair_key[num2[0]][num1[0]] == 1: \n",
    "        actual = 4\n",
    "    else: \n",
    "        actual = bj.hard_key[bj.player_total-4][num1[0]]\n",
    "\n",
    "    #Reads aloud strategy correction if needed\n",
    "    print(\"Player Total: \"+str(bj.player_total)+\",  Player Card Indexes: \"+str(num2[0])+\",  \"+str(num2[1])+\",  Dealer Index: \"+str(num1[0]))\n",
    "    print(\"Computer Says: \"+str(actual)+\",  Player Says: \"+str(button_id))\n",
    "    response = str(\"Incorrect, in this position you should \"+bj.moves[actual-1])\n",
    "\n",
    "    #Cancels assessment if button pressed is a non-game move\n",
    "    if button_id == 5 or button_id == 6 or button_id == 7 or button_id == 8:\n",
    "        return make_response('', 200)\n",
    "    bj.count += 1\n",
    "\n",
    "    #Returns message to HTML page\n",
    "    if button_id != actual:\n",
    "        read_string(response)\n",
    "        return jsonify({'message' : response})\n",
    "    else: \n",
    "        bj.correct += 1\n",
    "        return jsonify({'message' : \"Correct\"})\n",
    "\n",
    "#Determines outcomes of each hand in case of a split\n",
    "@app.route('/call_split')\n",
    "def call_split():\n",
    "    print(\"Hands: \"+str(bj.hands))\n",
    "    print(\"Dealer total: \"+str(bj.dealer_total))\n",
    "\n",
    "    #Compares each hand to the dealer's, reads outcomes, and tallies wins/credits won\n",
    "    for i, score in enumerate(bj.hands):\n",
    "        if bj.dealer_total == 0 and score != 0:\n",
    "            read_string(\"Hand \"+str(i+1)+\" Win\")\n",
    "            if bj.double_ids[i] == 1:\n",
    "                bj.net += 4\n",
    "            else:\n",
    "                bj.net += 2\n",
    "            bj.hand_wins += 1\n",
    "        elif score < bj.dealer_total:\n",
    "            read_string(\"Hand \"+str(i+1)+\" Loss\")\n",
    "        elif score == bj.dealer_total:\n",
    "            read_string(\"Hand \"+str(i+1)+\" Push\")\n",
    "            if bj.double_ids[i] == 1:\n",
    "                bj.net += 2\n",
    "            else:\n",
    "                bj.net += 1\n",
    "        elif score > bj.dealer_total:\n",
    "            if bj.double_ids[i] == 1:\n",
    "                bj.net += 4\n",
    "            else:\n",
    "                bj.net += 2\n",
    "            bj.hand_wins += 1\n",
    "            read_string(\"Hand \"+str(i+1)+\" Win\")\n",
    "    return make_response('', 200)\n",
    "\n",
    "#Initializes the game state variables\n",
    "def startup():\n",
    "    welcome = \"Welcome to the Tutorial Blackjack Simulator\"\n",
    "    global draw_type\n",
    "    read_string(welcome) \n",
    "    print(welcome)\n",
    "    draw_type = 1\n",
    "    bj.deck_num = 2\n",
    "    bj.generate_decks(2) \n",
    "    bj.net = 10\n",
    "\n",
    "#Generates cards within a specific range\n",
    "def cardgen(maximum=12):\n",
    "    #Uses blackjack_color object's deck stack variables to track decks and remaining cards\n",
    "    value, card, ind = bj.generate_card(name=True, key=True, maximum=maximum, deck_num=2)\n",
    "    suit = random.randint(0,3)\n",
    "    img_ind = ind*4+suit\n",
    "    #Finds image path for generated card\n",
    "    image = master_path_reg[img_ind]\n",
    "    return value, card, image, ind\n",
    "\n",
    "#Sets up the initial state for each new round\n",
    "def initial(draw_type=1):\n",
    "    #Resets hand lists and updates game/credit trackers\n",
    "    globals()['draw_type'] = draw_type\n",
    "    bj.net -= 1\n",
    "    bj.double_bet = False\n",
    "    bj.hand_count += 1\n",
    "    bj.double_ids = []\n",
    "    print(\"Draw Type: \"+str(draw_type))\n",
    "    global cards1, cards2, face1, face2, num1, num1copy, num2, num2copy, pair_id, values, cardback, hard_total, numb1, numb2, numb3\n",
    "    pair_id = None\n",
    "    cardback = \"static/images2/card_back.jpg\"\n",
    "    cards1 = [cardback]\n",
    "    cards2, face1, face2, num1, num1copy, num2, num2copy, values, bj.hands = [], [], [], [], [], [], [], [], []\n",
    "    bj.player_total, bj.dealer_total, hard_total = 0, 0, 0\n",
    "\n",
    "    #Genrates the dealer's hand\n",
    "    value3, card3, image3, numb3 = cardgen()\n",
    "    bj.dealer_total = value3\n",
    "    cards1.append(image3)\n",
    "    face1.append(card3)\n",
    "    num1.append(numb3)\n",
    "    num1copy = num1\n",
    "    \n",
    "    #Generates player hand from all possible cards\n",
    "    if draw_type == 1:\n",
    "        value1, card1, image1, numb1 = cardgen()\n",
    "        value2, card2, image2, numb2 = cardgen()\n",
    "        if numb1 == numb2:\n",
    "            pair_id = numb1\n",
    "        values = [value1,value2]\n",
    "        bj.player_total = value1+value2\n",
    "        cards2 = [image1,image2]\n",
    "        face1 = [card3]\n",
    "        face2 = [card1,card2]\n",
    "        num2 = [numb1,numb2]\n",
    "        num2copy = num2\n",
    "        #Checks for Blackjack\n",
    "        if bj.player_total == 21 and draw_type == 1: \n",
    "            bj.net += 2\n",
    "            bj.hand_wins += 1\n",
    "            read_string(\"BlackJack! Next Hand\")\n",
    "            initial(draw_type)\n",
    "\n",
    "    #Generates player hand with one ace and another card between 2 and 8\n",
    "    if draw_type == 2:\n",
    "        numb1 = 12\n",
    "        value2, card2, image2, numb2 = cardgen(maximum=6)    \n",
    "        bj.player_total = int(11 + value2)\n",
    "        cards2 = [ace_paths[random.randint(0,3)],image2]\n",
    "        face2 = [\"Ace\", card2]\n",
    "        num2 = [numb1, numb2]\n",
    "        num2copy = num2\n",
    "\n",
    "    #Generates player hand with only pairs between 2 and 9 possible\n",
    "    if draw_type == 3:\n",
    "        value1, card1, image1, numb1 = cardgen(maximum=7)\n",
    "        values = [value1,value1]\n",
    "        pair_id = numb1\n",
    "        numb2 = numb1\n",
    "        bj.player_total = int(value1 + value1)\n",
    "        cards2 = [image1,image1]\n",
    "        face2 = [card1,card1]\n",
    "        num2 = [numb1,numb1]\n",
    "        num2copy = num2\n",
    "\n",
    "    print(\"Num2 after gen: \"+str(num2))\n",
    "\n",
    "startup()\n",
    "initial()\n",
    "\n",
    "#If you are running this program 2 or more times, change the port each time to prevent overlap issues\n",
    "app.run(debug=False, port=1438)"
   ]
  }
 ],
 "metadata": {
  "kernelspec": {
   "display_name": "base",
   "language": "python",
   "name": "python3"
  },
  "language_info": {
   "codemirror_mode": {
    "name": "ipython",
    "version": 3
   },
   "file_extension": ".py",
   "mimetype": "text/x-python",
   "name": "python",
   "nbconvert_exporter": "python",
   "pygments_lexer": "ipython3",
   "version": "3.9.13"
  },
  "orig_nbformat": 4
 },
 "nbformat": 4,
 "nbformat_minor": 2
}
